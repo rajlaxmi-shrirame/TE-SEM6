{
 "cells": [
  {
   "cell_type": "markdown",
   "id": "c2b79d51",
   "metadata": {},
   "source": [
    "### Part 1"
   ]
  },
  {
   "cell_type": "code",
   "execution_count": 117,
   "id": "e1c0d8a1",
   "metadata": {},
   "outputs": [],
   "source": [
    "import pandas as pd\n",
    "import matplotlib.pyplot as plt\n",
    "%matplotlib inline\n",
    "import numpy as np"
   ]
  },
  {
   "cell_type": "code",
   "execution_count": 118,
   "id": "c8ebf590",
   "metadata": {},
   "outputs": [
    {
     "data": {
      "text/html": [
       "<div>\n",
       "<style scoped>\n",
       "    .dataframe tbody tr th:only-of-type {\n",
       "        vertical-align: middle;\n",
       "    }\n",
       "\n",
       "    .dataframe tbody tr th {\n",
       "        vertical-align: top;\n",
       "    }\n",
       "\n",
       "    .dataframe thead th {\n",
       "        text-align: right;\n",
       "    }\n",
       "</style>\n",
       "<table border=\"1\" class=\"dataframe\">\n",
       "  <thead>\n",
       "    <tr style=\"text-align: right;\">\n",
       "      <th></th>\n",
       "      <th>Name</th>\n",
       "      <th>Team</th>\n",
       "      <th>Number</th>\n",
       "      <th>Position</th>\n",
       "      <th>Age</th>\n",
       "      <th>Height</th>\n",
       "      <th>Weight</th>\n",
       "      <th>College</th>\n",
       "      <th>Salary</th>\n",
       "    </tr>\n",
       "  </thead>\n",
       "  <tbody>\n",
       "    <tr>\n",
       "      <th>0</th>\n",
       "      <td>Avery Bradley</td>\n",
       "      <td>Boston Celtics</td>\n",
       "      <td>0.0</td>\n",
       "      <td>PG</td>\n",
       "      <td>25.0</td>\n",
       "      <td>6-2</td>\n",
       "      <td>180.0</td>\n",
       "      <td>Texas</td>\n",
       "      <td>7730337.0</td>\n",
       "    </tr>\n",
       "    <tr>\n",
       "      <th>1</th>\n",
       "      <td>Jae Crowder</td>\n",
       "      <td>Boston Celtics</td>\n",
       "      <td>99.0</td>\n",
       "      <td>SF</td>\n",
       "      <td>25.0</td>\n",
       "      <td>6-6</td>\n",
       "      <td>235.0</td>\n",
       "      <td>Marquette</td>\n",
       "      <td>6796117.0</td>\n",
       "    </tr>\n",
       "    <tr>\n",
       "      <th>2</th>\n",
       "      <td>John Holland</td>\n",
       "      <td>Boston Celtics</td>\n",
       "      <td>30.0</td>\n",
       "      <td>SG</td>\n",
       "      <td>27.0</td>\n",
       "      <td>6-5</td>\n",
       "      <td>205.0</td>\n",
       "      <td>Boston University</td>\n",
       "      <td>NaN</td>\n",
       "    </tr>\n",
       "    <tr>\n",
       "      <th>3</th>\n",
       "      <td>R.J. Hunter</td>\n",
       "      <td>Boston Celtics</td>\n",
       "      <td>28.0</td>\n",
       "      <td>SG</td>\n",
       "      <td>22.0</td>\n",
       "      <td>6-5</td>\n",
       "      <td>185.0</td>\n",
       "      <td>Georgia State</td>\n",
       "      <td>1148640.0</td>\n",
       "    </tr>\n",
       "    <tr>\n",
       "      <th>4</th>\n",
       "      <td>Jonas Jerebko</td>\n",
       "      <td>Boston Celtics</td>\n",
       "      <td>8.0</td>\n",
       "      <td>PF</td>\n",
       "      <td>29.0</td>\n",
       "      <td>6-10</td>\n",
       "      <td>231.0</td>\n",
       "      <td>NaN</td>\n",
       "      <td>5000000.0</td>\n",
       "    </tr>\n",
       "    <tr>\n",
       "      <th>5</th>\n",
       "      <td>Amir Johnson</td>\n",
       "      <td>Boston Celtics</td>\n",
       "      <td>90.0</td>\n",
       "      <td>PF</td>\n",
       "      <td>29.0</td>\n",
       "      <td>6-9</td>\n",
       "      <td>240.0</td>\n",
       "      <td>NaN</td>\n",
       "      <td>12000000.0</td>\n",
       "    </tr>\n",
       "    <tr>\n",
       "      <th>6</th>\n",
       "      <td>Jordan Mickey</td>\n",
       "      <td>Boston Celtics</td>\n",
       "      <td>55.0</td>\n",
       "      <td>PF</td>\n",
       "      <td>21.0</td>\n",
       "      <td>6-8</td>\n",
       "      <td>235.0</td>\n",
       "      <td>LSU</td>\n",
       "      <td>1170960.0</td>\n",
       "    </tr>\n",
       "    <tr>\n",
       "      <th>7</th>\n",
       "      <td>Kelly Olynyk</td>\n",
       "      <td>Boston Celtics</td>\n",
       "      <td>41.0</td>\n",
       "      <td>C</td>\n",
       "      <td>25.0</td>\n",
       "      <td>7-0</td>\n",
       "      <td>238.0</td>\n",
       "      <td>Gonzaga</td>\n",
       "      <td>2165160.0</td>\n",
       "    </tr>\n",
       "    <tr>\n",
       "      <th>8</th>\n",
       "      <td>Terry Rozier</td>\n",
       "      <td>Boston Celtics</td>\n",
       "      <td>12.0</td>\n",
       "      <td>PG</td>\n",
       "      <td>22.0</td>\n",
       "      <td>6-2</td>\n",
       "      <td>190.0</td>\n",
       "      <td>Louisville</td>\n",
       "      <td>1824360.0</td>\n",
       "    </tr>\n",
       "    <tr>\n",
       "      <th>9</th>\n",
       "      <td>Marcus Smart</td>\n",
       "      <td>Boston Celtics</td>\n",
       "      <td>36.0</td>\n",
       "      <td>PG</td>\n",
       "      <td>22.0</td>\n",
       "      <td>6-4</td>\n",
       "      <td>220.0</td>\n",
       "      <td>Oklahoma State</td>\n",
       "      <td>3431040.0</td>\n",
       "    </tr>\n",
       "    <tr>\n",
       "      <th>10</th>\n",
       "      <td>Jared Sullinger</td>\n",
       "      <td>Boston Celtics</td>\n",
       "      <td>7.0</td>\n",
       "      <td>C</td>\n",
       "      <td>24.0</td>\n",
       "      <td>6-9</td>\n",
       "      <td>260.0</td>\n",
       "      <td>Ohio State</td>\n",
       "      <td>2569260.0</td>\n",
       "    </tr>\n",
       "    <tr>\n",
       "      <th>11</th>\n",
       "      <td>Isaiah Thomas</td>\n",
       "      <td>Boston Celtics</td>\n",
       "      <td>4.0</td>\n",
       "      <td>PG</td>\n",
       "      <td>27.0</td>\n",
       "      <td>5-9</td>\n",
       "      <td>185.0</td>\n",
       "      <td>Washington</td>\n",
       "      <td>6912869.0</td>\n",
       "    </tr>\n",
       "    <tr>\n",
       "      <th>12</th>\n",
       "      <td>Evan Turner</td>\n",
       "      <td>Boston Celtics</td>\n",
       "      <td>11.0</td>\n",
       "      <td>SG</td>\n",
       "      <td>27.0</td>\n",
       "      <td>6-7</td>\n",
       "      <td>220.0</td>\n",
       "      <td>Ohio State</td>\n",
       "      <td>3425510.0</td>\n",
       "    </tr>\n",
       "    <tr>\n",
       "      <th>13</th>\n",
       "      <td>James Young</td>\n",
       "      <td>Boston Celtics</td>\n",
       "      <td>13.0</td>\n",
       "      <td>SG</td>\n",
       "      <td>20.0</td>\n",
       "      <td>6-6</td>\n",
       "      <td>215.0</td>\n",
       "      <td>Kentucky</td>\n",
       "      <td>1749840.0</td>\n",
       "    </tr>\n",
       "    <tr>\n",
       "      <th>14</th>\n",
       "      <td>Tyler Zeller</td>\n",
       "      <td>Boston Celtics</td>\n",
       "      <td>44.0</td>\n",
       "      <td>C</td>\n",
       "      <td>26.0</td>\n",
       "      <td>7-0</td>\n",
       "      <td>253.0</td>\n",
       "      <td>North Carolina</td>\n",
       "      <td>2616975.0</td>\n",
       "    </tr>\n",
       "  </tbody>\n",
       "</table>\n",
       "</div>"
      ],
      "text/plain": [
       "               Name            Team  Number Position   Age Height  Weight  \\\n",
       "0     Avery Bradley  Boston Celtics     0.0       PG  25.0    6-2   180.0   \n",
       "1       Jae Crowder  Boston Celtics    99.0       SF  25.0    6-6   235.0   \n",
       "2      John Holland  Boston Celtics    30.0       SG  27.0    6-5   205.0   \n",
       "3       R.J. Hunter  Boston Celtics    28.0       SG  22.0    6-5   185.0   \n",
       "4     Jonas Jerebko  Boston Celtics     8.0       PF  29.0   6-10   231.0   \n",
       "5      Amir Johnson  Boston Celtics    90.0       PF  29.0    6-9   240.0   \n",
       "6     Jordan Mickey  Boston Celtics    55.0       PF  21.0    6-8   235.0   \n",
       "7      Kelly Olynyk  Boston Celtics    41.0        C  25.0    7-0   238.0   \n",
       "8      Terry Rozier  Boston Celtics    12.0       PG  22.0    6-2   190.0   \n",
       "9      Marcus Smart  Boston Celtics    36.0       PG  22.0    6-4   220.0   \n",
       "10  Jared Sullinger  Boston Celtics     7.0        C  24.0    6-9   260.0   \n",
       "11    Isaiah Thomas  Boston Celtics     4.0       PG  27.0    5-9   185.0   \n",
       "12      Evan Turner  Boston Celtics    11.0       SG  27.0    6-7   220.0   \n",
       "13      James Young  Boston Celtics    13.0       SG  20.0    6-6   215.0   \n",
       "14     Tyler Zeller  Boston Celtics    44.0        C  26.0    7-0   253.0   \n",
       "\n",
       "              College      Salary  \n",
       "0               Texas   7730337.0  \n",
       "1           Marquette   6796117.0  \n",
       "2   Boston University         NaN  \n",
       "3       Georgia State   1148640.0  \n",
       "4                 NaN   5000000.0  \n",
       "5                 NaN  12000000.0  \n",
       "6                 LSU   1170960.0  \n",
       "7             Gonzaga   2165160.0  \n",
       "8          Louisville   1824360.0  \n",
       "9      Oklahoma State   3431040.0  \n",
       "10         Ohio State   2569260.0  \n",
       "11         Washington   6912869.0  \n",
       "12         Ohio State   3425510.0  \n",
       "13           Kentucky   1749840.0  \n",
       "14     North Carolina   2616975.0  "
      ]
     },
     "execution_count": 118,
     "metadata": {},
     "output_type": "execute_result"
    }
   ],
   "source": [
    "df = pd.read_csv('nba.csv')\n",
    "df.head(15)"
   ]
  },
  {
   "cell_type": "code",
   "execution_count": 119,
   "id": "4ea2a210",
   "metadata": {},
   "outputs": [
    {
     "name": "stdout",
     "output_type": "stream",
     "text": [
      "<class 'pandas.core.frame.DataFrame'>\n",
      "RangeIndex: 458 entries, 0 to 457\n",
      "Data columns (total 9 columns):\n",
      " #   Column    Non-Null Count  Dtype  \n",
      "---  ------    --------------  -----  \n",
      " 0   Name      457 non-null    object \n",
      " 1   Team      457 non-null    object \n",
      " 2   Number    457 non-null    float64\n",
      " 3   Position  457 non-null    object \n",
      " 4   Age       457 non-null    float64\n",
      " 5   Height    457 non-null    object \n",
      " 6   Weight    457 non-null    float64\n",
      " 7   College   373 non-null    object \n",
      " 8   Salary    446 non-null    float64\n",
      "dtypes: float64(4), object(5)\n",
      "memory usage: 32.3+ KB\n"
     ]
    }
   ],
   "source": [
    "df.info()"
   ]
  },
  {
   "cell_type": "code",
   "execution_count": 120,
   "id": "83775b6c",
   "metadata": {},
   "outputs": [],
   "source": [
    "df = df.drop(columns=[\"Number\",\"College\"])"
   ]
  },
  {
   "cell_type": "code",
   "execution_count": 121,
   "id": "2a121c91",
   "metadata": {},
   "outputs": [
    {
     "name": "stdout",
     "output_type": "stream",
     "text": [
      "<class 'pandas.core.frame.DataFrame'>\n",
      "RangeIndex: 458 entries, 0 to 457\n",
      "Data columns (total 7 columns):\n",
      " #   Column    Non-Null Count  Dtype  \n",
      "---  ------    --------------  -----  \n",
      " 0   Name      457 non-null    object \n",
      " 1   Team      457 non-null    object \n",
      " 2   Position  457 non-null    object \n",
      " 3   Age       457 non-null    float64\n",
      " 4   Height    457 non-null    object \n",
      " 5   Weight    457 non-null    float64\n",
      " 6   Salary    446 non-null    float64\n",
      "dtypes: float64(3), object(4)\n",
      "memory usage: 25.2+ KB\n"
     ]
    }
   ],
   "source": [
    "df.info()"
   ]
  },
  {
   "cell_type": "code",
   "execution_count": 122,
   "id": "990c51ef",
   "metadata": {},
   "outputs": [],
   "source": [
    "df = df.dropna(how=\"any\")"
   ]
  },
  {
   "cell_type": "code",
   "execution_count": 123,
   "id": "f7ab909f",
   "metadata": {},
   "outputs": [
    {
     "name": "stdout",
     "output_type": "stream",
     "text": [
      "<class 'pandas.core.frame.DataFrame'>\n",
      "Int64Index: 446 entries, 0 to 456\n",
      "Data columns (total 7 columns):\n",
      " #   Column    Non-Null Count  Dtype  \n",
      "---  ------    --------------  -----  \n",
      " 0   Name      446 non-null    object \n",
      " 1   Team      446 non-null    object \n",
      " 2   Position  446 non-null    object \n",
      " 3   Age       446 non-null    float64\n",
      " 4   Height    446 non-null    object \n",
      " 5   Weight    446 non-null    float64\n",
      " 6   Salary    446 non-null    float64\n",
      "dtypes: float64(3), object(4)\n",
      "memory usage: 27.9+ KB\n"
     ]
    }
   ],
   "source": [
    "df.info()"
   ]
  },
  {
   "cell_type": "code",
   "execution_count": 124,
   "id": "f6c959da",
   "metadata": {},
   "outputs": [
    {
     "data": {
      "text/html": [
       "<div>\n",
       "<style scoped>\n",
       "    .dataframe tbody tr th:only-of-type {\n",
       "        vertical-align: middle;\n",
       "    }\n",
       "\n",
       "    .dataframe tbody tr th {\n",
       "        vertical-align: top;\n",
       "    }\n",
       "\n",
       "    .dataframe thead th {\n",
       "        text-align: right;\n",
       "    }\n",
       "</style>\n",
       "<table border=\"1\" class=\"dataframe\">\n",
       "  <thead>\n",
       "    <tr style=\"text-align: right;\">\n",
       "      <th></th>\n",
       "      <th>Name</th>\n",
       "      <th>Team</th>\n",
       "      <th>Position</th>\n",
       "      <th>Age</th>\n",
       "      <th>Height</th>\n",
       "      <th>Weight</th>\n",
       "      <th>Salary</th>\n",
       "    </tr>\n",
       "  </thead>\n",
       "  <tbody>\n",
       "    <tr>\n",
       "      <th>0</th>\n",
       "      <td>Avery Bradley</td>\n",
       "      <td>Boston Celtics</td>\n",
       "      <td>PG</td>\n",
       "      <td>25.0</td>\n",
       "      <td>6-2</td>\n",
       "      <td>180.0</td>\n",
       "      <td>7730337.0</td>\n",
       "    </tr>\n",
       "    <tr>\n",
       "      <th>1</th>\n",
       "      <td>Jae Crowder</td>\n",
       "      <td>Boston Celtics</td>\n",
       "      <td>SF</td>\n",
       "      <td>25.0</td>\n",
       "      <td>6-6</td>\n",
       "      <td>235.0</td>\n",
       "      <td>6796117.0</td>\n",
       "    </tr>\n",
       "    <tr>\n",
       "      <th>3</th>\n",
       "      <td>R.J. Hunter</td>\n",
       "      <td>Boston Celtics</td>\n",
       "      <td>SG</td>\n",
       "      <td>22.0</td>\n",
       "      <td>6-5</td>\n",
       "      <td>185.0</td>\n",
       "      <td>1148640.0</td>\n",
       "    </tr>\n",
       "    <tr>\n",
       "      <th>4</th>\n",
       "      <td>Jonas Jerebko</td>\n",
       "      <td>Boston Celtics</td>\n",
       "      <td>PF</td>\n",
       "      <td>29.0</td>\n",
       "      <td>6-10</td>\n",
       "      <td>231.0</td>\n",
       "      <td>5000000.0</td>\n",
       "    </tr>\n",
       "    <tr>\n",
       "      <th>5</th>\n",
       "      <td>Amir Johnson</td>\n",
       "      <td>Boston Celtics</td>\n",
       "      <td>PF</td>\n",
       "      <td>29.0</td>\n",
       "      <td>6-9</td>\n",
       "      <td>240.0</td>\n",
       "      <td>12000000.0</td>\n",
       "    </tr>\n",
       "  </tbody>\n",
       "</table>\n",
       "</div>"
      ],
      "text/plain": [
       "            Name            Team Position   Age Height  Weight      Salary\n",
       "0  Avery Bradley  Boston Celtics       PG  25.0    6-2   180.0   7730337.0\n",
       "1    Jae Crowder  Boston Celtics       SF  25.0    6-6   235.0   6796117.0\n",
       "3    R.J. Hunter  Boston Celtics       SG  22.0    6-5   185.0   1148640.0\n",
       "4  Jonas Jerebko  Boston Celtics       PF  29.0   6-10   231.0   5000000.0\n",
       "5   Amir Johnson  Boston Celtics       PF  29.0    6-9   240.0  12000000.0"
      ]
     },
     "execution_count": 124,
     "metadata": {},
     "output_type": "execute_result"
    }
   ],
   "source": [
    "df.head()"
   ]
  },
  {
   "cell_type": "code",
   "execution_count": 125,
   "id": "4f96840e",
   "metadata": {},
   "outputs": [
    {
     "data": {
      "text/plain": [
       "Name        0\n",
       "Team        0\n",
       "Position    0\n",
       "Age         0\n",
       "Height      0\n",
       "Weight      0\n",
       "Salary      0\n",
       "dtype: int64"
      ]
     },
     "execution_count": 125,
     "metadata": {},
     "output_type": "execute_result"
    }
   ],
   "source": [
    "df.isna().sum()"
   ]
  },
  {
   "cell_type": "markdown",
   "id": "d0e9fa68",
   "metadata": {},
   "source": [
    "### Manual functions to calculate Mean, Median, Mode, Std Deviation"
   ]
  },
  {
   "cell_type": "code",
   "execution_count": 126,
   "id": "8adfa7de",
   "metadata": {},
   "outputs": [],
   "source": [
    "def myMean(array:np.ndarray):\n",
    "    length = len(array)\n",
    "    s = 0\n",
    "    for val in array:\n",
    "        s += val\n",
    "    result = f\"Mode is {s / length}\"\n",
    "    return result\n",
    "def myMedian(array:np.ndarray):\n",
    "    copy = array.copy()\n",
    "    copy.sort()\n",
    "    length = len(array)\n",
    "    if length % 2 == 0:\n",
    "        result = f\"Median is {(copy[length//2] + copy[(length//2) - 1]) / 2}\"\n",
    "    else:\n",
    "        result = f\"Median is {copy[length//2]}\"\n",
    "    return result\n",
    "def myMode(array:np.ndarray):\n",
    "    modeMap = dict()\n",
    "    for val in array:\n",
    "        if val in modeMap:\n",
    "            modeMap[val] += 1\n",
    "        else:\n",
    "            modeMap[val] = 1\n",
    "    maxCount = max(modeMap.values())\n",
    "    mode = [key for key,value in modeMap.items() if value == maxCount]\n",
    "    result = f\"Mode value/s is/are: {mode}\"\n",
    "    return result\n",
    "\n",
    "def myStdDev(array:np.ndarray):\n",
    "    length = len(array)\n",
    "    s = 0\n",
    "    for val in array:\n",
    "        s += val\n",
    "    mean = s / length\n",
    "    deviations = [(x - mean) ** 2 for x in array]\n",
    "    variance = sum(deviations) / length\n",
    "    stdDeviation = variance**0.5\n",
    "    result = f\"Std. Deviation is {stdDeviation}\"\n",
    "    return result"
   ]
  },
  {
   "cell_type": "markdown",
   "id": "83559337",
   "metadata": {},
   "source": [
    "### Mean, median, max, min, std deviation of age column"
   ]
  },
  {
   "cell_type": "code",
   "execution_count": 127,
   "id": "809ac90a",
   "metadata": {},
   "outputs": [
    {
     "name": "stdout",
     "output_type": "stream",
     "text": [
      "Mean is 26.919282511210763\n",
      "Median is 26.0\n",
      "Max is 40.0\n",
      "Min is 19.0\n",
      "Std Deviation is 4.39895139966757\n"
     ]
    },
    {
     "data": {
      "image/png": "[encoded data removed]",
      "text/plain": [
       "<Figure size 432x288 with 1 Axes>"
      ]
     },
     "metadata": {
      "needs_background": "light"
     },
     "output_type": "display_data"
    }
   ],
   "source": [
    "print(f\"Mean is {df.Age.mean()}\")\n",
    "print(f\"Median is {df.Age.median()}\")\n",
    "print(f\"Max is {df.Age.max()}\")\n",
    "print(f\"Min is {df.Age.min()}\")\n",
    "print(f\"Std Deviation is {df.Age.std()}\")\n",
    "\n",
    "plt.plot(df[\"Age\"],alpha=0.25)\n",
    "plt.axhline(y=df[\"Age\"].mean(),color='r',linestyle='-',label='Mean')\n",
    "plt.axhline(y=df[\"Age\"].median(),color='g',linestyle='--',label='Median')\n",
    "plt.legend()\n",
    "plt.ylabel(\"Age\")\n",
    "plt.title(\"Stats of Age\")\n",
    "plt.show()"
   ]
  },
  {
   "cell_type": "markdown",
   "id": "9a93bd15",
   "metadata": {},
   "source": [
    "#### Stats using \"my\" functions"
   ]
  },
  {
   "cell_type": "code",
   "execution_count": 128,
   "id": "2edc857c",
   "metadata": {},
   "outputs": [
    {
     "data": {
      "text/plain": [
       "'Mode is 26.919282511210763'"
      ]
     },
     "execution_count": 128,
     "metadata": {},
     "output_type": "execute_result"
    }
   ],
   "source": [
    "myMean(df.Age.values)"
   ]
  },
  {
   "cell_type": "code",
   "execution_count": 129,
   "id": "4c365e29",
   "metadata": {},
   "outputs": [
    {
     "data": {
      "text/plain": [
       "'Median is 26.0'"
      ]
     },
     "execution_count": 129,
     "metadata": {},
     "output_type": "execute_result"
    }
   ],
   "source": [
    "myMedian(df.Age.values)"
   ]
  },
  {
   "cell_type": "code",
   "execution_count": 130,
   "id": "29f40e21",
   "metadata": {},
   "outputs": [
    {
     "data": {
      "text/plain": [
       "'Std. Deviation is 4.394017072371821'"
      ]
     },
     "execution_count": 130,
     "metadata": {},
     "output_type": "execute_result"
    }
   ],
   "source": [
    "myStdDev(df.Age.values)"
   ]
  },
  {
   "cell_type": "markdown",
   "id": "fb07a449",
   "metadata": {},
   "source": [
    "### Mean, median, max, min, std deviation of salary column"
   ]
  },
  {
   "cell_type": "code",
   "execution_count": 131,
   "id": "558a73a3",
   "metadata": {},
   "outputs": [
    {
     "name": "stdout",
     "output_type": "stream",
     "text": [
      "Mean is 4842684.105381166\n",
      "Median is 2839073.0\n",
      "Max is 25000000.0\n",
      "Min is 30888.0\n",
      "Std Deviation is 5229237.598910348\n"
     ]
    },
    {
     "data": {
      "image/png": "[encoded data removed]",
      "text/plain": [
       "<Figure size 432x288 with 1 Axes>"
      ]
     },
     "metadata": {
      "needs_background": "light"
     },
     "output_type": "display_data"
    }
   ],
   "source": [
    "print(f\"Mean is {df.Salary.mean()}\")\n",
    "print(f\"Median is {df.Salary.median()}\")\n",
    "print(f\"Max is {df.Salary.max()}\")\n",
    "print(f\"Min is {df.Salary.min()}\")\n",
    "print(f\"Std Deviation is {df.Salary.std()}\")\n",
    "\n",
    "plt.plot(df[\"Salary\"],alpha=0.25)\n",
    "plt.axhline(y=df[\"Salary\"].mean(),color='r',linestyle='-',label='Mean')\n",
    "plt.axhline(y=df[\"Salary\"].median(),color='g',linestyle='--',label='Median')\n",
    "plt.legend()\n",
    "plt.ylabel(\"Salary\")\n",
    "plt.title(\"Stats of Salary\")\n",
    "plt.show()"
   ]
  },
  {
   "cell_type": "markdown",
   "id": "0d2b8906",
   "metadata": {},
   "source": [
    "#### Stats using \"my\" functions"
   ]
  },
  {
   "cell_type": "code",
   "execution_count": 132,
   "id": "90359e32",
   "metadata": {},
   "outputs": [
    {
     "data": {
      "text/plain": [
       "'Mode is 4842684.105381166'"
      ]
     },
     "execution_count": 132,
     "metadata": {},
     "output_type": "execute_result"
    }
   ],
   "source": [
    "myMean(df.Salary.values)"
   ]
  },
  {
   "cell_type": "code",
   "execution_count": 133,
   "id": "7807dedc",
   "metadata": {},
   "outputs": [
    {
     "data": {
      "text/plain": [
       "'Median is 2839073.0'"
      ]
     },
     "execution_count": 133,
     "metadata": {},
     "output_type": "execute_result"
    }
   ],
   "source": [
    "myMedian(df.Salary.values)"
   ]
  },
  {
   "cell_type": "code",
   "execution_count": 134,
   "id": "1ac6c6fc",
   "metadata": {},
   "outputs": [
    {
     "data": {
      "text/plain": [
       "'Std. Deviation is 5223371.935147343'"
      ]
     },
     "execution_count": 134,
     "metadata": {},
     "output_type": "execute_result"
    }
   ],
   "source": [
    "myStdDev(df.Salary.values)"
   ]
  },
  {
   "cell_type": "markdown",
   "id": "a132b169",
   "metadata": {},
   "source": [
    "### Mean, median, max, min, std deviation of weight column"
   ]
  },
  {
   "cell_type": "code",
   "execution_count": 135,
   "id": "3a812900",
   "metadata": {},
   "outputs": [
    {
     "name": "stdout",
     "output_type": "stream",
     "text": [
      "Mean is 221.75336322869956\n",
      "Median is 220.0\n",
      "Max is 307.0\n",
      "Min is 161.0\n",
      "Std Deviation is 26.15789866982012\n"
     ]
    },
    {
     "data": {
      "image/png": "[encoded data removed]",
      "text/plain": [
       "<Figure size 432x288 with 1 Axes>"
      ]
     },
     "metadata": {
      "needs_background": "light"
     },
     "output_type": "display_data"
    }
   ],
   "source": [
    "print(f\"Mean is {df.Weight.mean()}\")\n",
    "print(f\"Median is {df.Weight.median()}\")\n",
    "print(f\"Max is {df.Weight.max()}\")\n",
    "print(f\"Min is {df.Weight.min()}\")\n",
    "print(f\"Std Deviation is {df.Weight.std()}\")\n",
    "\n",
    "plt.plot(df[\"Weight\"],alpha=0.25)\n",
    "plt.axhline(y=df[\"Weight\"].mean(),color='r',linestyle='-',label='Mean')\n",
    "plt.axhline(y=df[\"Weight\"].median(),color='g',linestyle='--',label='Median')\n",
    "plt.legend()\n",
    "plt.ylabel(\"Weight\")\n",
    "plt.title(\"Stats of Weight\")\n",
    "plt.show()"
   ]
  },
  {
   "cell_type": "markdown",
   "id": "1d009f1f",
   "metadata": {},
   "source": [
    "#### Stats using \"my\" functions"
   ]
  },
  {
   "cell_type": "code",
   "execution_count": 136,
   "id": "548362ce",
   "metadata": {},
   "outputs": [
    {
     "data": {
      "text/plain": [
       "'Mode is 221.75336322869956'"
      ]
     },
     "execution_count": 136,
     "metadata": {},
     "output_type": "execute_result"
    }
   ],
   "source": [
    "myMean(df.Weight.values)"
   ]
  },
  {
   "cell_type": "code",
   "execution_count": 137,
   "id": "910cd926",
   "metadata": {},
   "outputs": [
    {
     "data": {
      "text/plain": [
       "'Median is 220.0'"
      ]
     },
     "execution_count": 137,
     "metadata": {},
     "output_type": "execute_result"
    }
   ],
   "source": [
    "myMedian(df.Weight.values)"
   ]
  },
  {
   "cell_type": "code",
   "execution_count": 138,
   "id": "b0a82bff",
   "metadata": {},
   "outputs": [
    {
     "data": {
      "text/plain": [
       "'Std. Deviation is 26.12855721507805'"
      ]
     },
     "execution_count": 138,
     "metadata": {},
     "output_type": "execute_result"
    }
   ],
   "source": [
    "myStdDev(df.Weight.values)"
   ]
  },
  {
   "cell_type": "markdown",
   "id": "4e56487f",
   "metadata": {},
   "source": [
    "### Categorical Variable and Quantitative Variable"
   ]
  },
  {
   "cell_type": "code",
   "execution_count": 139,
   "id": "5b3699e8",
   "metadata": {},
   "outputs": [],
   "source": [
    "#Age is categorical variable\n",
    "#Weight and Salary are categorical variables\n",
    "df1 = df.groupby(by=[\"Age\"])[[\"Weight\",\"Salary\"]].mean()"
   ]
  },
  {
   "cell_type": "code",
   "execution_count": 140,
   "id": "7891a1f7",
   "metadata": {},
   "outputs": [
    {
     "data": {
      "text/plain": [
       "<AxesSubplot:xlabel='Age'>"
      ]
     },
     "execution_count": 140,
     "metadata": {},
     "output_type": "execute_result"
    },
    {
     "data": {
      "image/png": "[encoded data removed]",
      "text/plain": [
       "<Figure size 432x288 with 1 Axes>"
      ]
     },
     "metadata": {
      "needs_background": "light"
     },
     "output_type": "display_data"
    }
   ],
   "source": [
    "df1[\"Weight\"].plot()"
   ]
  },
  {
   "cell_type": "code",
   "execution_count": 141,
   "id": "787758a6",
   "metadata": {},
   "outputs": [
    {
     "data": {
      "text/plain": [
       "<AxesSubplot:xlabel='Age'>"
      ]
     },
     "execution_count": 141,
     "metadata": {},
     "output_type": "execute_result"
    },
    {
     "data": {
      "image/png": "[encoded data removed]",
      "text/plain": [
       "<Figure size 432x288 with 1 Axes>"
      ]
     },
     "metadata": {
      "needs_background": "light"
     },
     "output_type": "display_data"
    }
   ],
   "source": [
    "df1[\"Salary\"].plot()"
   ]
  },
  {
   "cell_type": "markdown",
   "id": "363707a3",
   "metadata": {},
   "source": [
    "## Part 2"
   ]
  },
  {
   "cell_type": "code",
   "execution_count": 142,
   "id": "23f299c9",
   "metadata": {},
   "outputs": [
    {
     "data": {
      "text/html": [
       "<div>\n",
       "<style scoped>\n",
       "    .dataframe tbody tr th:only-of-type {\n",
       "        vertical-align: middle;\n",
       "    }\n",
       "\n",
       "    .dataframe tbody tr th {\n",
       "        vertical-align: top;\n",
       "    }\n",
       "\n",
       "    .dataframe thead th {\n",
       "        text-align: right;\n",
       "    }\n",
       "</style>\n",
       "<table border=\"1\" class=\"dataframe\">\n",
       "  <thead>\n",
       "    <tr style=\"text-align: right;\">\n",
       "      <th></th>\n",
       "      <th>SepalLengthCm</th>\n",
       "      <th>SepalWidthCm</th>\n",
       "      <th>PetalLengthCm</th>\n",
       "      <th>PetalWidthCm</th>\n",
       "      <th>Species</th>\n",
       "    </tr>\n",
       "    <tr>\n",
       "      <th>Id</th>\n",
       "      <th></th>\n",
       "      <th></th>\n",
       "      <th></th>\n",
       "      <th></th>\n",
       "      <th></th>\n",
       "    </tr>\n",
       "  </thead>\n",
       "  <tbody>\n",
       "    <tr>\n",
       "      <th>1</th>\n",
       "      <td>5.1</td>\n",
       "      <td>3.5</td>\n",
       "      <td>1.4</td>\n",
       "      <td>0.2</td>\n",
       "      <td>Iris-setosa</td>\n",
       "    </tr>\n",
       "    <tr>\n",
       "      <th>2</th>\n",
       "      <td>4.9</td>\n",
       "      <td>3.0</td>\n",
       "      <td>1.4</td>\n",
       "      <td>0.2</td>\n",
       "      <td>Iris-setosa</td>\n",
       "    </tr>\n",
       "    <tr>\n",
       "      <th>3</th>\n",
       "      <td>4.7</td>\n",
       "      <td>3.2</td>\n",
       "      <td>1.3</td>\n",
       "      <td>0.2</td>\n",
       "      <td>Iris-setosa</td>\n",
       "    </tr>\n",
       "    <tr>\n",
       "      <th>4</th>\n",
       "      <td>4.6</td>\n",
       "      <td>3.1</td>\n",
       "      <td>1.5</td>\n",
       "      <td>0.2</td>\n",
       "      <td>Iris-setosa</td>\n",
       "    </tr>\n",
       "    <tr>\n",
       "      <th>5</th>\n",
       "      <td>5.0</td>\n",
       "      <td>3.6</td>\n",
       "      <td>1.4</td>\n",
       "      <td>0.2</td>\n",
       "      <td>Iris-setosa</td>\n",
       "    </tr>\n",
       "  </tbody>\n",
       "</table>\n",
       "</div>"
      ],
      "text/plain": [
       "    SepalLengthCm  SepalWidthCm  PetalLengthCm  PetalWidthCm      Species\n",
       "Id                                                                       \n",
       "1             5.1           3.5            1.4           0.2  Iris-setosa\n",
       "2             4.9           3.0            1.4           0.2  Iris-setosa\n",
       "3             4.7           3.2            1.3           0.2  Iris-setosa\n",
       "4             4.6           3.1            1.5           0.2  Iris-setosa\n",
       "5             5.0           3.6            1.4           0.2  Iris-setosa"
      ]
     },
     "execution_count": 142,
     "metadata": {},
     "output_type": "execute_result"
    }
   ],
   "source": [
    "df_2 = pd.read_csv(\"Iris.csv\")\n",
    "df_2.set_index(\"Id\",inplace=True)\n",
    "df_2.head()"
   ]
  },
  {
   "cell_type": "code",
   "execution_count": 143,
   "id": "9b49b70e",
   "metadata": {},
   "outputs": [
    {
     "name": "stdout",
     "output_type": "stream",
     "text": [
      "<class 'pandas.core.frame.DataFrame'>\n",
      "Int64Index: 150 entries, 1 to 150\n",
      "Data columns (total 5 columns):\n",
      " #   Column         Non-Null Count  Dtype  \n",
      "---  ------         --------------  -----  \n",
      " 0   SepalLengthCm  150 non-null    float64\n",
      " 1   SepalWidthCm   150 non-null    float64\n",
      " 2   PetalLengthCm  150 non-null    float64\n",
      " 3   PetalWidthCm   150 non-null    float64\n",
      " 4   Species        150 non-null    object \n",
      "dtypes: float64(4), object(1)\n",
      "memory usage: 7.0+ KB\n"
     ]
    }
   ],
   "source": [
    "df_2.info()"
   ]
  },
  {
   "cell_type": "code",
   "execution_count": 144,
   "id": "33731fd3",
   "metadata": {},
   "outputs": [
    {
     "data": {
      "text/plain": [
       "array(['Iris-setosa', 'Iris-versicolor', 'Iris-virginica'], dtype=object)"
      ]
     },
     "execution_count": 144,
     "metadata": {},
     "output_type": "execute_result"
    }
   ],
   "source": [
    "df_2.Species.unique()"
   ]
  },
  {
   "cell_type": "code",
   "execution_count": 145,
   "id": "3f567f69",
   "metadata": {},
   "outputs": [
    {
     "name": "stdout",
     "output_type": "stream",
     "text": [
      "\n",
      "Statistics of Iris-setosa\n",
      "       SepalLengthCm  SepalWidthCm  PetalLengthCm  PetalWidthCm\n",
      "count       50.00000     50.000000      50.000000      50.00000\n",
      "mean         5.00600      3.418000       1.464000       0.24400\n",
      "std          0.35249      0.381024       0.173511       0.10721\n",
      "min          4.30000      2.300000       1.000000       0.10000\n",
      "25%          4.80000      3.125000       1.400000       0.20000\n",
      "50%          5.00000      3.400000       1.500000       0.20000\n",
      "75%          5.20000      3.675000       1.575000       0.30000\n",
      "max          5.80000      4.400000       1.900000       0.60000\n",
      "\n",
      "\n",
      "Statistics of Iris-versicolor\n",
      "       SepalLengthCm  SepalWidthCm  PetalLengthCm  PetalWidthCm\n",
      "count      50.000000     50.000000      50.000000     50.000000\n",
      "mean        5.936000      2.770000       4.260000      1.326000\n",
      "std         0.516171      0.313798       0.469911      0.197753\n",
      "min         4.900000      2.000000       3.000000      1.000000\n",
      "25%         5.600000      2.525000       4.000000      1.200000\n",
      "50%         5.900000      2.800000       4.350000      1.300000\n",
      "75%         6.300000      3.000000       4.600000      1.500000\n",
      "max         7.000000      3.400000       5.100000      1.800000\n",
      "\n",
      "\n",
      "Statistics of Iris-virginica\n",
      "       SepalLengthCm  SepalWidthCm  PetalLengthCm  PetalWidthCm\n",
      "count       50.00000     50.000000      50.000000      50.00000\n",
      "mean         6.58800      2.974000       5.552000       2.02600\n",
      "std          0.63588      0.322497       0.551895       0.27465\n",
      "min          4.90000      2.200000       4.500000       1.40000\n",
      "25%          6.22500      2.800000       5.100000       1.80000\n",
      "50%          6.50000      3.000000       5.550000       2.00000\n",
      "75%          6.90000      3.175000       5.875000       2.30000\n",
      "max          7.90000      3.800000       6.900000       2.50000\n",
      "\n"
     ]
    }
   ],
   "source": [
    "for specie in df_2.Species.unique():\n",
    "    print(f\"\\nStatistics of {specie}\")\n",
    "    print(df_2[df_2.Species == specie].describe())\n",
    "    print()"
   ]
  },
  {
   "cell_type": "code",
   "execution_count": 146,
   "id": "3afaea7c",
   "metadata": {},
   "outputs": [
    {
     "name": "stdout",
     "output_type": "stream",
     "text": [
      "Iris-setosa-SepalLengthCm\n",
      "Mode is 5.005999999999999\n",
      "Median is 5.0\n",
      "Mode value/s is/are: [5.1, 5.0]\n",
      "Std. Deviation is 0.348946987377739\n",
      "Iris-setosa-SepalWidthCm\n",
      "Mode is 3.4180000000000006\n",
      "Median is 3.4\n",
      "Mode value/s is/are: [3.4]\n",
      "Std. Deviation is 0.37719490982779713\n",
      "Iris-setosa-PetalLengthCm\n",
      "Mode is 1.464\n",
      "Median is 1.5\n",
      "Mode value/s is/are: [1.5]\n",
      "Std. Deviation is 0.17176728442867115\n",
      "Iris-setosa-PetalWidthCm\n",
      "Mode is 0.2439999999999999\n",
      "Median is 0.2\n",
      "Mode value/s is/are: [0.2]\n",
      "Std. Deviation is 0.10613199329137278\n",
      "Iris-versicolor-SepalLengthCm\n",
      "Mode is 5.936\n",
      "Median is 5.9\n",
      "Mode value/s is/are: [5.5, 5.7, 5.6]\n",
      "Std. Deviation is 0.5109833656783752\n",
      "Iris-versicolor-SepalWidthCm\n",
      "Mode is 2.7700000000000005\n",
      "Median is 2.8\n",
      "Mode value/s is/are: [3.0]\n",
      "Std. Deviation is 0.31064449134018135\n",
      "Iris-versicolor-PetalLengthCm\n",
      "Mode is 4.26\n",
      "Median is 4.35\n",
      "Mode value/s is/are: [4.5]\n",
      "Std. Deviation is 0.4651881339845204\n",
      "Iris-versicolor-PetalWidthCm\n",
      "Mode is 1.3259999999999998\n",
      "Median is 1.3\n",
      "Mode value/s is/are: [1.3]\n",
      "Std. Deviation is 0.19576516544063702\n",
      "Iris-virginica-SepalLengthCm\n",
      "Mode is 6.587999999999998\n",
      "Median is 6.5\n",
      "Mode value/s is/are: [6.3]\n",
      "Std. Deviation is 0.6294886813914925\n",
      "Iris-virginica-SepalWidthCm\n",
      "Mode is 2.9739999999999998\n",
      "Median is 3.0\n",
      "Mode value/s is/are: [3.0]\n",
      "Std. Deviation is 0.319255383666431\n",
      "Iris-virginica-PetalLengthCm\n",
      "Mode is 5.552\n",
      "Median is 5.55\n",
      "Mode value/s is/are: [5.1]\n",
      "Std. Deviation is 0.5463478745268441\n",
      "Iris-virginica-PetalWidthCm\n",
      "Mode is 2.026\n",
      "Median is 2.0\n",
      "Mode value/s is/are: [1.8]\n",
      "Std. Deviation is 0.2718896835115301\n"
     ]
    }
   ],
   "source": [
    "for specie in df_2.Species.unique():\n",
    "    for colName in df_2.columns:\n",
    "        if colName != \"Species\":\n",
    "            print(f\"{specie}-{colName}\")\n",
    "            arr = df_2[df_2.Species==specie][colName].to_numpy()\n",
    "            print(myMean(arr))\n",
    "            print(myMedian(arr))\n",
    "            print(myMode(arr))\n",
    "            print(myStdDev(arr))"
   ]
  }
 ],
 "metadata": {
  "kernelspec": {
   "display_name": "Python 3",
   "language": "python",
   "name": "python3"
  },
  "language_info": {
   "codemirror_mode": {
    "name": "ipython",
    "version": 3
   },
   "file_extension": ".py",
   "mimetype": "text/x-python",
   "name": "python",
   "nbconvert_exporter": "python",
   "pygments_lexer": "ipython3",
   "version": "3.8.10"
  }
 },
 "nbformat": 4,
 "nbformat_minor": 5
}
